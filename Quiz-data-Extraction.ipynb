{
 "cells": [
  {
   "cell_type": "code",
   "execution_count": 1,
   "metadata": {},
   "outputs": [
    {
     "name": "stderr",
     "output_type": "stream",
     "text": [
      "/Library/Frameworks/Python.framework/Versions/3.12/lib/python3.12/site-packages/urllib3/connectionpool.py:1099: InsecureRequestWarning: Unverified HTTPS request is being made to host 'jsonkeeper.com'. Adding certificate verification is strongly advised. See: https://urllib3.readthedocs.io/en/latest/advanced-usage.html#tls-warnings\n",
      "  warnings.warn(\n"
     ]
    },
    {
     "name": "stdout",
     "output_type": "stream",
     "text": [
      "Data fetched successfully!\n",
      "Quiz ID: 43\n",
      "Quiz Title: Structural Organisation in Animals and Plants (7)\n",
      "Topic: Structural Organisation in Animals\n",
      "Published: True\n",
      "\n",
      "Data saved to quiz_data.csv\n"
     ]
    }
   ],
   "source": [
    "import requests\n",
    "import json\n",
    "import pandas as pd\n",
    "\n",
    "# API URL\n",
    "api_url = \"http://jsonkeeper.com/b/LLQT\"  # Replace with your actual API URL\n",
    "\n",
    "# Fetch data from the API, bypassing SSL verification\n",
    "try:\n",
    "    response = requests.get(api_url, verify=False)  # Disable SSL verification\n",
    "    response.raise_for_status()\n",
    "    data = response.json()\n",
    "    print(\"Data fetched successfully!\")\n",
    "except requests.exceptions.RequestException as e:\n",
    "    print(f\"Error fetching data: {e}\")\n",
    "    exit()\n",
    "\n",
    "# Process and save data as before (code unchanged from earlier)\n",
    "\n",
    "# Check if 'data' is populated\n",
    "if not data:\n",
    "    print(\"No data received from the API.\")\n",
    "    exit()\n",
    "\n",
    "# Extract quiz metadata\n",
    "quiz_data = data.get(\"quiz\", {})\n",
    "if not quiz_data:\n",
    "    print(\"No quiz data found.\")\n",
    "    exit()\n",
    "\n",
    "quiz_id = quiz_data.get(\"id\", \"N/A\")\n",
    "quiz_title = quiz_data.get(\"title\", \"No Title\")\n",
    "quiz_topic = quiz_data.get(\"topic\", \"No Topic\")\n",
    "is_published = quiz_data.get(\"is_published\", False)\n",
    "\n",
    "print(f\"Quiz ID: {quiz_id}\")\n",
    "print(f\"Quiz Title: {quiz_title}\")\n",
    "print(f\"Topic: {quiz_topic}\")\n",
    "print(f\"Published: {is_published}\\n\")\n",
    "\n",
    "# Process questions and options dynamically\n",
    "questions = quiz_data.get(\"questions\", [])\n",
    "if not questions:\n",
    "    print(\"No questions found.\")\n",
    "    exit()\n",
    "\n",
    "all_questions = []\n",
    "\n",
    "for question in questions:\n",
    "    question_id = question.get(\"id\", \"Unknown\")\n",
    "    question_description = question.get(\"description\", \"No Description\")\n",
    "    options = question.get(\"options\", [])\n",
    "\n",
    "    for option in options:\n",
    "        option_id = option.get(\"id\", \"Unknown\")\n",
    "        option_text = option.get(\"description\", \"No Description\")\n",
    "        is_correct = option.get(\"is_correct\", False)\n",
    "\n",
    "        # Store all data in a list for saving\n",
    "        all_questions.append({\n",
    "            \"Quiz ID\": quiz_id,\n",
    "            \"Quiz Title\": quiz_title,\n",
    "            \"Question ID\": question_id,\n",
    "            \"Question Description\": question_description,\n",
    "            \"Option ID\": option_id,\n",
    "            \"Option Text\": option_text,\n",
    "            \"Is Correct\": is_correct\n",
    "        })\n",
    "\n",
    "# Convert to DataFrame and Save Locally\n",
    "df = pd.DataFrame(all_questions)\n",
    "output_file = \"quiz_data.csv\"\n",
    "df.to_csv(output_file, index=False)\n",
    "print(f\"Data saved to {output_file}\")\n"
   ]
  },
  {
   "cell_type": "code",
   "execution_count": null,
   "metadata": {},
   "outputs": [],
   "source": []
  }
 ],
 "metadata": {
  "kernelspec": {
   "display_name": "Python 3",
   "language": "python",
   "name": "python3"
  },
  "language_info": {
   "codemirror_mode": {
    "name": "ipython",
    "version": 3
   },
   "file_extension": ".py",
   "mimetype": "text/x-python",
   "name": "python",
   "nbconvert_exporter": "python",
   "pygments_lexer": "ipython3",
   "version": "3.12.3"
  }
 },
 "nbformat": 4,
 "nbformat_minor": 2
}
